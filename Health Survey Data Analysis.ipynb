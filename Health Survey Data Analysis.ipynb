{
 "cells": [
  {
   "cell_type": "markdown",
   "metadata": {},
   "source": [
    "# Health Survey Data Analysis\n",
    "\n",
    "Tyrrance P. Miller Jr."
   ]
  },
  {
   "cell_type": "markdown",
   "metadata": {},
   "source": [
    "## Executive Summary\n",
    "\n",
    "In this project I will be performing some statistical data analysis on a dataset from the Center for Disease Control and Prevention (CDC). We will specifically be focusing on the relationship of the physical health or 'PHYSHLT'of people who rent their home or'RENTHOM1' and those who own their homes."
   ]
  },
  {
   "cell_type": "markdown",
   "metadata": {},
   "source": [
    "## The Data"
   ]
  },
  {
   "cell_type": "markdown",
   "metadata": {},
   "source": [
    "The data used to perform this analysis is from the CDC Behavioral Risk Factor Surveillance System (BRFSS) which is a subset of data that represents survey responses from the 2020-2021 survey in the state of New York.\n",
    "\n",
    "'PHYSHLTH' represents the number of days during the past 30 days physical health was not good.\n",
    "\n",
    "\n",
    "The RENTHOM1 column represents those who own their homes and those who rent their homes."
   ]
  },
  {
   "cell_type": "code",
   "execution_count": 152,
   "metadata": {},
   "outputs": [],
   "source": [
    "import matplotlib.pyplot as plt\n",
    "import numpy as np\n",
    "import pandas as pd\n",
    "import scipy.stats as stats\n",
    "import seaborn as sns\n",
    "\n",
    "\n",
    "\n",
    "file_path = \"https://raw.githubusercontent.com/learn-co-curriculum/da-phase3-project-enterprise/main/brfss_ny.csv\"\n",
    "df = pd.read_csv(file_path)"
   ]
  },
  {
   "cell_type": "markdown",
   "metadata": {},
   "source": [
    "## Data Preparation"
   ]
  },
  {
   "cell_type": "markdown",
   "metadata": {},
   "source": [
    "To prepare the data I converted all instances of 88 to 0, and dropped all of the records where PHYSHLTH is 77, 99, or blank (NaN) by only pulling data for all values between 0 and 30.\n",
    "\n",
    "For RENTHOM1 I dropped the records with values other than 1 or 2.\n",
    "1: Are those who owned their homes.\n",
    "2: Are those who rent their homes."
   ]
  },
  {
   "cell_type": "code",
   "execution_count": 153,
   "metadata": {},
   "outputs": [
    {
     "data": {
      "text/plain": [
       "0        88.0\n",
       "1        14.0\n",
       "2        88.0\n",
       "3         5.0\n",
       "4        88.0\n",
       "         ... \n",
       "14764    88.0\n",
       "14765    88.0\n",
       "14766     2.0\n",
       "14767    88.0\n",
       "14768    88.0\n",
       "Name: PHYSHLTH, Length: 14769, dtype: float64"
      ]
     },
     "execution_count": 153,
     "metadata": {},
     "output_type": "execute_result"
    }
   ],
   "source": [
    "# TODO: write code to prepare the PHYSHLTH column\n",
    "df['PHYSHLTH']"
   ]
  },
  {
   "cell_type": "code",
   "execution_count": 154,
   "metadata": {},
   "outputs": [
    {
     "data": {
      "text/plain": [
       "count    14769.000000\n",
       "mean        67.801815\n",
       "std         34.082730\n",
       "min          1.000000\n",
       "25%         30.000000\n",
       "50%         88.000000\n",
       "75%         88.000000\n",
       "max         99.000000\n",
       "Name: PHYSHLTH, dtype: float64"
      ]
     },
     "execution_count": 154,
     "metadata": {},
     "output_type": "execute_result"
    }
   ],
   "source": [
    "df['PHYSHLTH'].describe()"
   ]
  },
  {
   "cell_type": "code",
   "execution_count": 155,
   "metadata": {},
   "outputs": [
    {
     "data": {
      "text/plain": [
       "(array([12775.,   622.,   275.,   768.,     0.,     0.,     0.,   248.,\n",
       "            0.,    81.]),\n",
       " array([ 0. ,  9.9, 19.8, 29.7, 39.6, 49.5, 59.4, 69.3, 79.2, 89.1, 99. ]),\n",
       " <BarContainer object of 10 artists>)"
      ]
     },
     "execution_count": 155,
     "metadata": {},
     "output_type": "execute_result"
    },
    {
     "data": {
      "image/png": "[encoded data removed]",
      "text/plain": [
       "<Figure size 432x288 with 1 Axes>"
      ]
     },
     "metadata": {
      "needs_background": "light"
     },
     "output_type": "display_data"
    }
   ],
   "source": [
    "plt.hist(df['PHYSHLTH'].replace(to_replace = 88, value = 0))"
   ]
  },
  {
   "cell_type": "code",
   "execution_count": 156,
   "metadata": {},
   "outputs": [],
   "source": [
    "df['PHYSHLTH'] = df['PHYSHLTH'].replace(to_replace = 88, value = 0)"
   ]
  },
  {
   "cell_type": "code",
   "execution_count": 157,
   "metadata": {
    "scrolled": true
   },
   "outputs": [],
   "source": [
    "df = df[df['PHYSHLTH'] <= 30]"
   ]
  },
  {
   "cell_type": "code",
   "execution_count": 158,
   "metadata": {},
   "outputs": [
    {
     "data": {
      "text/plain": [
       "0.0     10565\n",
       "30.0      768\n",
       "2.0       597\n",
       "1.0       410\n",
       "5.0       367\n",
       "3.0       361\n",
       "10.0      231\n",
       "7.0       209\n",
       "15.0      194\n",
       "4.0       163\n",
       "20.0      147\n",
       "14.0      144\n",
       "25.0       55\n",
       "6.0        47\n",
       "8.0        45\n",
       "21.0       26\n",
       "28.0       22\n",
       "12.0       22\n",
       "9.0        11\n",
       "29.0        8\n",
       "13.0        7\n",
       "18.0        6\n",
       "17.0        6\n",
       "16.0        6\n",
       "24.0        5\n",
       "27.0        5\n",
       "11.0        4\n",
       "26.0        3\n",
       "23.0        3\n",
       "19.0        2\n",
       "22.0        1\n",
       "Name: PHYSHLTH, dtype: int64"
      ]
     },
     "execution_count": 158,
     "metadata": {},
     "output_type": "execute_result"
    }
   ],
   "source": [
    "df['PHYSHLTH'].value_counts()"
   ]
  },
  {
   "cell_type": "code",
   "execution_count": 159,
   "metadata": {
    "scrolled": true
   },
   "outputs": [
    {
     "data": {
      "text/plain": [
       "0        2.0\n",
       "1        1.0\n",
       "2        2.0\n",
       "3        3.0\n",
       "4        2.0\n",
       "        ... \n",
       "14764    2.0\n",
       "14765    2.0\n",
       "14766    2.0\n",
       "14767    2.0\n",
       "14768    3.0\n",
       "Name: RENTHOM1, Length: 14440, dtype: float64"
      ]
     },
     "execution_count": 159,
     "metadata": {},
     "output_type": "execute_result"
    }
   ],
   "source": [
    "# TODO: write code to prepare the RENTHOM1 column\n",
    "df['RENTHOM1']"
   ]
  },
  {
   "cell_type": "code",
   "execution_count": 160,
   "metadata": {},
   "outputs": [],
   "source": [
    "df = df[df['RENTHOM1']<= 2 ]"
   ]
  },
  {
   "cell_type": "code",
   "execution_count": 161,
   "metadata": {},
   "outputs": [
    {
     "data": {
      "text/plain": [
       "1.0    8453\n",
       "2.0    5206\n",
       "Name: RENTHOM1, dtype: int64"
      ]
     },
     "execution_count": 161,
     "metadata": {},
     "output_type": "execute_result"
    }
   ],
   "source": [
    "df['RENTHOM1'].value_counts()"
   ]
  },
  {
   "cell_type": "markdown",
   "metadata": {},
   "source": [
    "## Confidence Interval for Mean of `PHYSHLTH`"
   ]
  },
  {
   "cell_type": "code",
   "execution_count": 176,
   "metadata": {
    "scrolled": true
   },
   "outputs": [
    {
     "data": {
      "text/plain": [
       "count    13659.000000\n",
       "mean         3.064646\n",
       "std          7.581325\n",
       "min          0.000000\n",
       "25%          0.000000\n",
       "50%          0.000000\n",
       "75%          1.000000\n",
       "max         30.000000\n",
       "Name: PHYSHLTH, dtype: float64"
      ]
     },
     "execution_count": 176,
     "metadata": {},
     "output_type": "execute_result"
    }
   ],
   "source": [
    "df['PHYSHLTH'].describe()"
   ]
  },
  {
   "cell_type": "code",
   "execution_count": 177,
   "metadata": {},
   "outputs": [
    {
     "data": {
      "text/plain": [
       "3.064646020938575"
      ]
     },
     "execution_count": 177,
     "metadata": {},
     "output_type": "execute_result"
    }
   ],
   "source": [
    "df['PHYSHLTH'].mean()"
   ]
  },
  {
   "cell_type": "code",
   "execution_count": 178,
   "metadata": {},
   "outputs": [],
   "source": [
    "sample = df['PHYSHLTH'].sample(n=500, random_state=40)"
   ]
  },
  {
   "cell_type": "code",
   "execution_count": 179,
   "metadata": {},
   "outputs": [
    {
     "data": {
      "text/plain": [
       "(array([389.,  36.,  12.,  14.,  10.,   9.,   5.,   1.,   2.,  22.]),\n",
       " array([ 0.,  3.,  6.,  9., 12., 15., 18., 21., 24., 27., 30.]),\n",
       " <BarContainer object of 10 artists>)"
      ]
     },
     "execution_count": 179,
     "metadata": {},
     "output_type": "execute_result"
    },
    {
     "data": {
      "image/png": "[encoded data removed]",
      "text/plain": [
       "<Figure size 720x432 with 1 Axes>"
      ]
     },
     "metadata": {
      "needs_background": "light"
     },
     "output_type": "display_data"
    }
   ],
   "source": [
    "plt.figure(figsize=(10,6))\n",
    "plt.hist(sample)"
   ]
  },
  {
   "cell_type": "code",
   "execution_count": 180,
   "metadata": {},
   "outputs": [],
   "source": [
    "sample_mean = sample.mean()\n",
    "sample_std = sample.std()\n",
    "sample_size = len(sample)\n",
    "se = sample_std/np.sqrt(sample_size)"
   ]
  },
  {
   "cell_type": "code",
   "execution_count": 181,
   "metadata": {},
   "outputs": [
    {
     "data": {
      "text/plain": [
       "(2.40958839010172, 3.6664116098982795)"
      ]
     },
     "execution_count": 181,
     "metadata": {},
     "output_type": "execute_result"
    }
   ],
   "source": [
    "# Calculate a 95% confidence interval about the mean of PHYSHLTH\n",
    "\n",
    "stats.t.interval(alpha=0.95, loc=sample_mean, scale=se, df=sample_size-1)"
   ]
  },
  {
   "cell_type": "markdown",
   "metadata": {},
   "source": [
    "Interpretation: We are 95% confident that the mean number of days of poor health falls within the range of 2.40958839010172 and 3.6664116098982795"
   ]
  },
  {
   "cell_type": "markdown",
   "metadata": {},
   "source": [
    "## Differences in `PHYSHLTH` Based on `RENTHOM1`\n",
    "\n",
    "### How Does `PHYSHLTH` Differ Based on `RENTHOM1`?"
   ]
  },
  {
   "cell_type": "markdown",
   "metadata": {},
   "source": [
    "Splitting the data based on RENTHON1 means that we will break down the data into subsets of those who rent their homes and those who own their homes and comparing the physical health of each group."
   ]
  },
  {
   "cell_type": "code",
   "execution_count": 167,
   "metadata": {},
   "outputs": [
    {
     "data": {
      "text/html": [
       "<div>\n",
       "<style scoped>\n",
       "    .dataframe tbody tr th:only-of-type {\n",
       "        vertical-align: middle;\n",
       "    }\n",
       "\n",
       "    .dataframe tbody tr th {\n",
       "        vertical-align: top;\n",
       "    }\n",
       "\n",
       "    .dataframe thead th {\n",
       "        text-align: right;\n",
       "    }\n",
       "</style>\n",
       "<table border=\"1\" class=\"dataframe\">\n",
       "  <thead>\n",
       "    <tr style=\"text-align: right;\">\n",
       "      <th></th>\n",
       "      <th>PHYSHLTH</th>\n",
       "      <th>RENTHOM1</th>\n",
       "    </tr>\n",
       "  </thead>\n",
       "  <tbody>\n",
       "    <tr>\n",
       "      <th>0</th>\n",
       "      <td>0.0</td>\n",
       "      <td>2.0</td>\n",
       "    </tr>\n",
       "    <tr>\n",
       "      <th>1</th>\n",
       "      <td>14.0</td>\n",
       "      <td>1.0</td>\n",
       "    </tr>\n",
       "    <tr>\n",
       "      <th>2</th>\n",
       "      <td>0.0</td>\n",
       "      <td>2.0</td>\n",
       "    </tr>\n",
       "    <tr>\n",
       "      <th>4</th>\n",
       "      <td>0.0</td>\n",
       "      <td>2.0</td>\n",
       "    </tr>\n",
       "    <tr>\n",
       "      <th>5</th>\n",
       "      <td>2.0</td>\n",
       "      <td>2.0</td>\n",
       "    </tr>\n",
       "    <tr>\n",
       "      <th>...</th>\n",
       "      <td>...</td>\n",
       "      <td>...</td>\n",
       "    </tr>\n",
       "    <tr>\n",
       "      <th>14763</th>\n",
       "      <td>0.0</td>\n",
       "      <td>2.0</td>\n",
       "    </tr>\n",
       "    <tr>\n",
       "      <th>14764</th>\n",
       "      <td>0.0</td>\n",
       "      <td>2.0</td>\n",
       "    </tr>\n",
       "    <tr>\n",
       "      <th>14765</th>\n",
       "      <td>0.0</td>\n",
       "      <td>2.0</td>\n",
       "    </tr>\n",
       "    <tr>\n",
       "      <th>14766</th>\n",
       "      <td>2.0</td>\n",
       "      <td>2.0</td>\n",
       "    </tr>\n",
       "    <tr>\n",
       "      <th>14767</th>\n",
       "      <td>0.0</td>\n",
       "      <td>2.0</td>\n",
       "    </tr>\n",
       "  </tbody>\n",
       "</table>\n",
       "<p>13659 rows × 2 columns</p>\n",
       "</div>"
      ],
      "text/plain": [
       "       PHYSHLTH  RENTHOM1\n",
       "0           0.0       2.0\n",
       "1          14.0       1.0\n",
       "2           0.0       2.0\n",
       "4           0.0       2.0\n",
       "5           2.0       2.0\n",
       "...         ...       ...\n",
       "14763       0.0       2.0\n",
       "14764       0.0       2.0\n",
       "14765       0.0       2.0\n",
       "14766       2.0       2.0\n",
       "14767       0.0       2.0\n",
       "\n",
       "[13659 rows x 2 columns]"
      ]
     },
     "execution_count": 167,
     "metadata": {},
     "output_type": "execute_result"
    }
   ],
   "source": [
    "df[['PHYSHLTH','RENTHOM1']]"
   ]
  },
  {
   "cell_type": "code",
   "execution_count": 168,
   "metadata": {},
   "outputs": [],
   "source": [
    "own = df.loc[df['RENTHOM1']== 1]['PHYSHLTH']\n",
    "rent = df.loc[df['RENTHOM1']== 2]['PHYSHLTH']"
   ]
  },
  {
   "cell_type": "code",
   "execution_count": 169,
   "metadata": {},
   "outputs": [
    {
     "data": {
      "text/plain": [
       "<matplotlib.legend.Legend at 0x7f13efd76400>"
      ]
     },
     "execution_count": 169,
     "metadata": {},
     "output_type": "execute_result"
    },
    {
     "data": {
      "image/png": "[encoded data removed]",
      "text/plain": [
       "<Figure size 720x576 with 1 Axes>"
      ]
     },
     "metadata": {
      "needs_background": "light"
     },
     "output_type": "display_data"
    }
   ],
   "source": [
    "# Produce one or more plots that show the value of \n",
    "# PHYSHLTH based on the value of RENTHOM1\n",
    "\n",
    "fig, ax = plt.subplots(figsize=(10,8))\n",
    "\n",
    "ax.hist(x=[own, rent], label=['Own', 'Rent'])\n",
    "ax.set_xlabel('Physical Health')\n",
    "ax.set_ylabel('Number of Rent or Owned Homes')\n",
    "\n",
    "ax.legend()"
   ]
  },
  {
   "cell_type": "markdown",
   "metadata": {},
   "source": [
    "In the visualization above we see the physical health of those who own their home and those who rent their home. We can interpret that there is a significant amount of home owners who had better physical health than those who rent homes."
   ]
  },
  {
   "cell_type": "markdown",
   "metadata": {},
   "source": [
    "### Is the Difference Statistically Significant?\n",
    "\n",
    "\n",
    "Null Hypothesis: There is no significant difference in the physical health of those who own their home and those who rent thier home.\n",
    "\n",
    "Alternative Hypothesis: There is a significant difference in the physical health those who own their home and those who rent their homes\n",
    "\n",
    "Test type: This is a two-tailed test"
   ]
  },
  {
   "cell_type": "code",
   "execution_count": 170,
   "metadata": {
    "scrolled": true
   },
   "outputs": [
    {
     "data": {
      "text/html": [
       "<div>\n",
       "<style scoped>\n",
       "    .dataframe tbody tr th:only-of-type {\n",
       "        vertical-align: middle;\n",
       "    }\n",
       "\n",
       "    .dataframe tbody tr th {\n",
       "        vertical-align: top;\n",
       "    }\n",
       "\n",
       "    .dataframe thead th {\n",
       "        text-align: right;\n",
       "    }\n",
       "</style>\n",
       "<table border=\"1\" class=\"dataframe\">\n",
       "  <thead>\n",
       "    <tr style=\"text-align: right;\">\n",
       "      <th></th>\n",
       "      <th>count</th>\n",
       "      <th>mean</th>\n",
       "      <th>std</th>\n",
       "      <th>min</th>\n",
       "      <th>25%</th>\n",
       "      <th>50%</th>\n",
       "      <th>75%</th>\n",
       "      <th>max</th>\n",
       "    </tr>\n",
       "    <tr>\n",
       "      <th>RENTHOM1</th>\n",
       "      <th></th>\n",
       "      <th></th>\n",
       "      <th></th>\n",
       "      <th></th>\n",
       "      <th></th>\n",
       "      <th></th>\n",
       "      <th></th>\n",
       "      <th></th>\n",
       "    </tr>\n",
       "  </thead>\n",
       "  <tbody>\n",
       "    <tr>\n",
       "      <th>1.0</th>\n",
       "      <td>8453.0</td>\n",
       "      <td>2.675855</td>\n",
       "      <td>7.108881</td>\n",
       "      <td>0.0</td>\n",
       "      <td>0.0</td>\n",
       "      <td>0.0</td>\n",
       "      <td>0.0</td>\n",
       "      <td>30.0</td>\n",
       "    </tr>\n",
       "    <tr>\n",
       "      <th>2.0</th>\n",
       "      <td>5206.0</td>\n",
       "      <td>3.695928</td>\n",
       "      <td>8.253077</td>\n",
       "      <td>0.0</td>\n",
       "      <td>0.0</td>\n",
       "      <td>0.0</td>\n",
       "      <td>2.0</td>\n",
       "      <td>30.0</td>\n",
       "    </tr>\n",
       "  </tbody>\n",
       "</table>\n",
       "</div>"
      ],
      "text/plain": [
       "           count      mean       std  min  25%  50%  75%   max\n",
       "RENTHOM1                                                      \n",
       "1.0       8453.0  2.675855  7.108881  0.0  0.0  0.0  0.0  30.0\n",
       "2.0       5206.0  3.695928  8.253077  0.0  0.0  0.0  2.0  30.0"
      ]
     },
     "execution_count": 170,
     "metadata": {},
     "output_type": "execute_result"
    }
   ],
   "source": [
    "df.groupby(['RENTHOM1'])['PHYSHLTH'].describe()"
   ]
  },
  {
   "cell_type": "code",
   "execution_count": 171,
   "metadata": {
    "scrolled": true
   },
   "outputs": [],
   "source": [
    "# Calculate the test statistic and p-value for a t-test\n",
    "\n",
    "own_sample = own.sample(n=500, random_state=40)\n",
    "rent_sample = rent.sample(n=500, random_state=40)"
   ]
  },
  {
   "cell_type": "code",
   "execution_count": 172,
   "metadata": {},
   "outputs": [
    {
     "name": "stdout",
     "output_type": "stream",
     "text": [
      "Variance of own sample:  46.94689779559127\n",
      "Variance of rent sample:  70.98222044088205\n"
     ]
    }
   ],
   "source": [
    "print(\"Variance of own sample: \", own_sample.var())\n",
    "print(\"Variance of rent sample: \", rent_sample.var())"
   ]
  },
  {
   "cell_type": "code",
   "execution_count": 173,
   "metadata": {},
   "outputs": [
    {
     "data": {
      "text/plain": [
       "Ttest_indResult(statistic=-2.6726935709544315, pvalue=0.007652327090943319)"
      ]
     },
     "execution_count": 173,
     "metadata": {},
     "output_type": "execute_result"
    }
   ],
   "source": [
    "result = stats.ttest_ind(own_sample, rent_sample, equal_var=False, alternative='two-sided')\n",
    "result"
   ]
  },
  {
   "cell_type": "code",
   "execution_count": 174,
   "metadata": {},
   "outputs": [
    {
     "name": "stdout",
     "output_type": "stream",
     "text": [
      "P-value of t-test:  0.007652327090943319\n"
     ]
    }
   ],
   "source": [
    "p_value = result[1]\n",
    "print(\"P-value of t-test: \", p_value)"
   ]
  },
  {
   "cell_type": "markdown",
   "metadata": {},
   "source": [
    "Using an alpha of 0.05, we can reject the null hypothesis because the p-value is less than the alpha value."
   ]
  },
  {
   "cell_type": "markdown",
   "metadata": {},
   "source": [
    "## Next Steps\n",
    "\n",
    "\n",
    "The next feature I would investigate from the CDC codebook would be (\"HHADULT\") which is the number of members in the household that are 18 years of age or older.\n",
    "\n"
   ]
  }
 ],
 "metadata": {
  "kernelspec": {
   "display_name": "Python 3",
   "language": "python",
   "name": "python3"
  },
  "language_info": {
   "codemirror_mode": {
    "name": "ipython",
    "version": 3
   },
   "file_extension": ".py",
   "mimetype": "text/x-python",
   "name": "python",
   "nbconvert_exporter": "python",
   "pygments_lexer": "ipython3",
   "version": "3.9.5"
  }
 },
 "nbformat": 4,
 "nbformat_minor": 4
}
